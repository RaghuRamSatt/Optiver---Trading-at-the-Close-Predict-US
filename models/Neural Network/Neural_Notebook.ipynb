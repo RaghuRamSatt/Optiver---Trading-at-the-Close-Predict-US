{
 "cells": [
  {
   "cell_type": "code",
   "execution_count": 9,
   "metadata": {
    "_cell_guid": "b1076dfc-b9ad-4769-8c92-a6c4dae69d19",
    "_uuid": "8f2839f25d086af736a60e9eeb907d3b93b6e0e5",
    "execution": {
     "iopub.execute_input": "2023-12-11T23:06:59.773126Z",
     "iopub.status.busy": "2023-12-11T23:06:59.772249Z",
     "iopub.status.idle": "2023-12-11T23:07:51.431651Z",
     "shell.execute_reply": "2023-12-11T23:07:51.430551Z",
     "shell.execute_reply.started": "2023-12-11T23:06:59.773040Z"
    }
   },
   "outputs": [
    {
     "name": "stdout",
     "output_type": "stream",
     "text": [
      "\u001b[33mWARNING: Skipping torchaudio as it is not installed.\u001b[0m\u001b[33m\n",
      "\u001b[0m\u001b[33mWARNING: Skipping torchdata as it is not installed.\u001b[0m\u001b[33m\n",
      "\u001b[0m\u001b[33mWARNING: Skipping torchtext as it is not installed.\u001b[0m\u001b[33m\n",
      "\u001b[0m\u001b[33mWARNING: Skipping torchvision as it is not installed.\u001b[0m\u001b[33m\n",
      "\u001b[0mLooking in links: /kaggle/input/pytorch-tabular-python-package/\n",
      "Requirement already satisfied: pytorch_tabular in /opt/conda/lib/python3.10/site-packages (1.0.2)\n",
      "Requirement already satisfied: torch>=1.9.0 in /opt/conda/lib/python3.10/site-packages (from pytorch_tabular) (1.13.1)\n",
      "Requirement already satisfied: category-encoders<2.7.0,>=2.6.0 in /opt/conda/lib/python3.10/site-packages (from pytorch_tabular) (2.6.3)\n",
      "Requirement already satisfied: numpy>=1.17.2 in /opt/conda/lib/python3.10/site-packages (from pytorch_tabular) (1.24.3)\n",
      "Requirement already satisfied: pandas>=1.1.5 in /opt/conda/lib/python3.10/site-packages (from pytorch_tabular) (2.0.3)\n",
      "Requirement already satisfied: scikit-learn>=1.0.0 in /opt/conda/lib/python3.10/site-packages (from pytorch_tabular) (1.2.2)\n",
      "Requirement already satisfied: pytorch-lightning<2.0.0,>=1.8.0 in /opt/conda/lib/python3.10/site-packages (from pytorch_tabular) (1.9.5)\n",
      "Requirement already satisfied: omegaconf>=2.1.0 in /opt/conda/lib/python3.10/site-packages (from pytorch_tabular) (2.3.0)\n",
      "Requirement already satisfied: torchmetrics<0.12.0,>=0.10.0 in /opt/conda/lib/python3.10/site-packages (from pytorch_tabular) (0.11.4)\n",
      "Requirement already satisfied: tensorboard!=2.5.0,>2.2.0 in /opt/conda/lib/python3.10/site-packages (from pytorch_tabular) (2.13.0)\n",
      "Requirement already satisfied: protobuf<4.23.0,>=3.20.0 in /opt/conda/lib/python3.10/site-packages (from pytorch_tabular) (3.20.3)\n",
      "Requirement already satisfied: pytorch-tabnet==4.0 in /opt/conda/lib/python3.10/site-packages (from pytorch_tabular) (4.0)\n",
      "Requirement already satisfied: PyYAML<6.1.0,>=5.4 in /opt/conda/lib/python3.10/site-packages (from pytorch_tabular) (6.0.1)\n",
      "Requirement already satisfied: matplotlib>3.1 in /opt/conda/lib/python3.10/site-packages (from pytorch_tabular) (3.7.3)\n",
      "Requirement already satisfied: ipywidgets in /opt/conda/lib/python3.10/site-packages (from pytorch_tabular) (7.7.1)\n",
      "Requirement already satisfied: einops<0.7.0,>=0.6.0 in /opt/conda/lib/python3.10/site-packages (from pytorch_tabular) (0.6.1)\n",
      "Requirement already satisfied: rich>=11.0.0 in /opt/conda/lib/python3.10/site-packages (from pytorch_tabular) (13.5.2)\n",
      "Requirement already satisfied: scipy>1.4 in /opt/conda/lib/python3.10/site-packages (from pytorch-tabnet==4.0->pytorch_tabular) (1.11.3)\n",
      "Requirement already satisfied: tqdm<5.0,>=4.36 in /opt/conda/lib/python3.10/site-packages (from pytorch-tabnet==4.0->pytorch_tabular) (4.66.1)\n",
      "Requirement already satisfied: statsmodels>=0.9.0 in /opt/conda/lib/python3.10/site-packages (from category-encoders<2.7.0,>=2.6.0->pytorch_tabular) (0.14.0)\n",
      "Requirement already satisfied: patsy>=0.5.1 in /opt/conda/lib/python3.10/site-packages (from category-encoders<2.7.0,>=2.6.0->pytorch_tabular) (0.5.3)\n",
      "Requirement already satisfied: contourpy>=1.0.1 in /opt/conda/lib/python3.10/site-packages (from matplotlib>3.1->pytorch_tabular) (1.1.0)\n",
      "Requirement already satisfied: cycler>=0.10 in /opt/conda/lib/python3.10/site-packages (from matplotlib>3.1->pytorch_tabular) (0.11.0)\n",
      "Requirement already satisfied: fonttools>=4.22.0 in /opt/conda/lib/python3.10/site-packages (from matplotlib>3.1->pytorch_tabular) (4.42.1)\n",
      "Requirement already satisfied: kiwisolver>=1.0.1 in /opt/conda/lib/python3.10/site-packages (from matplotlib>3.1->pytorch_tabular) (1.4.4)\n",
      "Requirement already satisfied: packaging>=20.0 in /opt/conda/lib/python3.10/site-packages (from matplotlib>3.1->pytorch_tabular) (21.3)\n",
      "Requirement already satisfied: pillow>=6.2.0 in /opt/conda/lib/python3.10/site-packages (from matplotlib>3.1->pytorch_tabular) (10.1.0)\n",
      "Requirement already satisfied: pyparsing>=2.3.1 in /opt/conda/lib/python3.10/site-packages (from matplotlib>3.1->pytorch_tabular) (3.0.9)\n",
      "Requirement already satisfied: python-dateutil>=2.7 in /opt/conda/lib/python3.10/site-packages (from matplotlib>3.1->pytorch_tabular) (2.8.2)\n",
      "Requirement already satisfied: antlr4-python3-runtime==4.9.* in /opt/conda/lib/python3.10/site-packages (from omegaconf>=2.1.0->pytorch_tabular) (4.9.3)\n",
      "Requirement already satisfied: pytz>=2020.1 in /opt/conda/lib/python3.10/site-packages (from pandas>=1.1.5->pytorch_tabular) (2023.3)\n",
      "Requirement already satisfied: tzdata>=2022.1 in /opt/conda/lib/python3.10/site-packages (from pandas>=1.1.5->pytorch_tabular) (2023.3)\n",
      "Requirement already satisfied: fsspec[http]>2021.06.0 in /opt/conda/lib/python3.10/site-packages (from pytorch-lightning<2.0.0,>=1.8.0->pytorch_tabular) (2023.10.0)\n",
      "Requirement already satisfied: typing-extensions>=4.0.0 in /opt/conda/lib/python3.10/site-packages (from pytorch-lightning<2.0.0,>=1.8.0->pytorch_tabular) (4.5.0)\n",
      "Requirement already satisfied: lightning-utilities>=0.6.0.post0 in /opt/conda/lib/python3.10/site-packages (from pytorch-lightning<2.0.0,>=1.8.0->pytorch_tabular) (0.9.0)\n",
      "Requirement already satisfied: markdown-it-py>=2.2.0 in /opt/conda/lib/python3.10/site-packages (from rich>=11.0.0->pytorch_tabular) (3.0.0)\n",
      "Requirement already satisfied: pygments<3.0.0,>=2.13.0 in /opt/conda/lib/python3.10/site-packages (from rich>=11.0.0->pytorch_tabular) (2.16.1)\n",
      "Requirement already satisfied: joblib>=1.1.1 in /opt/conda/lib/python3.10/site-packages (from scikit-learn>=1.0.0->pytorch_tabular) (1.3.2)\n",
      "Requirement already satisfied: threadpoolctl>=2.0.0 in /opt/conda/lib/python3.10/site-packages (from scikit-learn>=1.0.0->pytorch_tabular) (3.2.0)\n",
      "Requirement already satisfied: absl-py>=0.4 in /opt/conda/lib/python3.10/site-packages (from tensorboard!=2.5.0,>2.2.0->pytorch_tabular) (1.4.0)\n",
      "Requirement already satisfied: grpcio>=1.48.2 in /opt/conda/lib/python3.10/site-packages (from tensorboard!=2.5.0,>2.2.0->pytorch_tabular) (1.51.1)\n",
      "Requirement already satisfied: google-auth<3,>=1.6.3 in /opt/conda/lib/python3.10/site-packages (from tensorboard!=2.5.0,>2.2.0->pytorch_tabular) (2.22.0)\n",
      "Requirement already satisfied: google-auth-oauthlib<1.1,>=0.5 in /opt/conda/lib/python3.10/site-packages (from tensorboard!=2.5.0,>2.2.0->pytorch_tabular) (1.0.0)\n",
      "Requirement already satisfied: markdown>=2.6.8 in /opt/conda/lib/python3.10/site-packages (from tensorboard!=2.5.0,>2.2.0->pytorch_tabular) (3.4.4)\n",
      "Requirement already satisfied: requests<3,>=2.21.0 in /opt/conda/lib/python3.10/site-packages (from tensorboard!=2.5.0,>2.2.0->pytorch_tabular) (2.31.0)\n",
      "Requirement already satisfied: setuptools>=41.0.0 in /opt/conda/lib/python3.10/site-packages (from tensorboard!=2.5.0,>2.2.0->pytorch_tabular) (68.1.2)\n",
      "Requirement already satisfied: tensorboard-data-server<0.8.0,>=0.7.0 in /opt/conda/lib/python3.10/site-packages (from tensorboard!=2.5.0,>2.2.0->pytorch_tabular) (0.7.1)\n",
      "Requirement already satisfied: werkzeug>=1.0.1 in /opt/conda/lib/python3.10/site-packages (from tensorboard!=2.5.0,>2.2.0->pytorch_tabular) (3.0.1)\n",
      "Requirement already satisfied: wheel>=0.26 in /opt/conda/lib/python3.10/site-packages (from tensorboard!=2.5.0,>2.2.0->pytorch_tabular) (0.41.2)\n",
      "Requirement already satisfied: nvidia-cuda-runtime-cu11==11.7.99 in /opt/conda/lib/python3.10/site-packages (from torch>=1.9.0->pytorch_tabular) (11.7.99)\n",
      "Requirement already satisfied: nvidia-cudnn-cu11==8.5.0.96 in /opt/conda/lib/python3.10/site-packages (from torch>=1.9.0->pytorch_tabular) (8.5.0.96)\n",
      "Requirement already satisfied: nvidia-cublas-cu11==11.10.3.66 in /opt/conda/lib/python3.10/site-packages (from torch>=1.9.0->pytorch_tabular) (11.10.3.66)\n",
      "Requirement already satisfied: nvidia-cuda-nvrtc-cu11==11.7.99 in /opt/conda/lib/python3.10/site-packages (from torch>=1.9.0->pytorch_tabular) (11.7.99)\n",
      "Requirement already satisfied: ipykernel>=4.5.1 in /opt/conda/lib/python3.10/site-packages (from ipywidgets->pytorch_tabular) (6.25.1)\n",
      "Requirement already satisfied: ipython-genutils~=0.2.0 in /opt/conda/lib/python3.10/site-packages (from ipywidgets->pytorch_tabular) (0.2.0)\n",
      "Requirement already satisfied: traitlets>=4.3.1 in /opt/conda/lib/python3.10/site-packages (from ipywidgets->pytorch_tabular) (5.9.0)\n",
      "Requirement already satisfied: widgetsnbextension~=3.6.0 in /opt/conda/lib/python3.10/site-packages (from ipywidgets->pytorch_tabular) (3.6.6)\n",
      "Requirement already satisfied: ipython>=4.0.0 in /opt/conda/lib/python3.10/site-packages (from ipywidgets->pytorch_tabular) (8.14.0)\n",
      "Requirement already satisfied: jupyterlab-widgets>=1.0.0 in /opt/conda/lib/python3.10/site-packages (from ipywidgets->pytorch_tabular) (3.0.8)\n",
      "Requirement already satisfied: aiohttp!=4.0.0a0,!=4.0.0a1 in /opt/conda/lib/python3.10/site-packages (from fsspec[http]>2021.06.0->pytorch-lightning<2.0.0,>=1.8.0->pytorch_tabular) (3.8.5)\n",
      "Requirement already satisfied: cachetools<6.0,>=2.0.0 in /opt/conda/lib/python3.10/site-packages (from google-auth<3,>=1.6.3->tensorboard!=2.5.0,>2.2.0->pytorch_tabular) (4.2.4)\n",
      "Requirement already satisfied: pyasn1-modules>=0.2.1 in /opt/conda/lib/python3.10/site-packages (from google-auth<3,>=1.6.3->tensorboard!=2.5.0,>2.2.0->pytorch_tabular) (0.2.7)\n",
      "Requirement already satisfied: rsa<5,>=3.1.4 in /opt/conda/lib/python3.10/site-packages (from google-auth<3,>=1.6.3->tensorboard!=2.5.0,>2.2.0->pytorch_tabular) (4.9)\n",
      "Requirement already satisfied: six>=1.9.0 in /opt/conda/lib/python3.10/site-packages (from google-auth<3,>=1.6.3->tensorboard!=2.5.0,>2.2.0->pytorch_tabular) (1.16.0)\n",
      "Requirement already satisfied: urllib3<2.0 in /opt/conda/lib/python3.10/site-packages (from google-auth<3,>=1.6.3->tensorboard!=2.5.0,>2.2.0->pytorch_tabular) (1.26.15)\n",
      "Requirement already satisfied: requests-oauthlib>=0.7.0 in /opt/conda/lib/python3.10/site-packages (from google-auth-oauthlib<1.1,>=0.5->tensorboard!=2.5.0,>2.2.0->pytorch_tabular) (1.3.1)\n",
      "Requirement already satisfied: comm>=0.1.1 in /opt/conda/lib/python3.10/site-packages (from ipykernel>=4.5.1->ipywidgets->pytorch_tabular) (0.1.4)\n",
      "Requirement already satisfied: debugpy>=1.6.5 in /opt/conda/lib/python3.10/site-packages (from ipykernel>=4.5.1->ipywidgets->pytorch_tabular) (1.6.7.post1)\n",
      "Requirement already satisfied: jupyter-client>=6.1.12 in /opt/conda/lib/python3.10/site-packages (from ipykernel>=4.5.1->ipywidgets->pytorch_tabular) (7.4.9)\n",
      "Requirement already satisfied: jupyter-core!=5.0.*,>=4.12 in /opt/conda/lib/python3.10/site-packages (from ipykernel>=4.5.1->ipywidgets->pytorch_tabular) (5.3.1)\n",
      "Requirement already satisfied: matplotlib-inline>=0.1 in /opt/conda/lib/python3.10/site-packages (from ipykernel>=4.5.1->ipywidgets->pytorch_tabular) (0.1.6)\n",
      "Requirement already satisfied: nest-asyncio in /opt/conda/lib/python3.10/site-packages (from ipykernel>=4.5.1->ipywidgets->pytorch_tabular) (1.5.6)\n",
      "Requirement already satisfied: psutil in /opt/conda/lib/python3.10/site-packages (from ipykernel>=4.5.1->ipywidgets->pytorch_tabular) (5.9.3)\n",
      "Requirement already satisfied: pyzmq>=20 in /opt/conda/lib/python3.10/site-packages (from ipykernel>=4.5.1->ipywidgets->pytorch_tabular) (24.0.1)\n",
      "Requirement already satisfied: tornado>=6.1 in /opt/conda/lib/python3.10/site-packages (from ipykernel>=4.5.1->ipywidgets->pytorch_tabular) (6.3.3)\n",
      "Requirement already satisfied: backcall in /opt/conda/lib/python3.10/site-packages (from ipython>=4.0.0->ipywidgets->pytorch_tabular) (0.2.0)\n",
      "Requirement already satisfied: decorator in /opt/conda/lib/python3.10/site-packages (from ipython>=4.0.0->ipywidgets->pytorch_tabular) (5.1.1)\n",
      "Requirement already satisfied: jedi>=0.16 in /opt/conda/lib/python3.10/site-packages (from ipython>=4.0.0->ipywidgets->pytorch_tabular) (0.19.0)\n",
      "Requirement already satisfied: pickleshare in /opt/conda/lib/python3.10/site-packages (from ipython>=4.0.0->ipywidgets->pytorch_tabular) (0.7.5)\n",
      "Requirement already satisfied: prompt-toolkit!=3.0.37,<3.1.0,>=3.0.30 in /opt/conda/lib/python3.10/site-packages (from ipython>=4.0.0->ipywidgets->pytorch_tabular) (3.0.39)\n",
      "Requirement already satisfied: stack-data in /opt/conda/lib/python3.10/site-packages (from ipython>=4.0.0->ipywidgets->pytorch_tabular) (0.6.2)\n",
      "Requirement already satisfied: pexpect>4.3 in /opt/conda/lib/python3.10/site-packages (from ipython>=4.0.0->ipywidgets->pytorch_tabular) (4.8.0)\n",
      "Requirement already satisfied: mdurl~=0.1 in /opt/conda/lib/python3.10/site-packages (from markdown-it-py>=2.2.0->rich>=11.0.0->pytorch_tabular) (0.1.0)\n",
      "Requirement already satisfied: charset-normalizer<4,>=2 in /opt/conda/lib/python3.10/site-packages (from requests<3,>=2.21.0->tensorboard!=2.5.0,>2.2.0->pytorch_tabular) (3.2.0)\n",
      "Requirement already satisfied: idna<4,>=2.5 in /opt/conda/lib/python3.10/site-packages (from requests<3,>=2.21.0->tensorboard!=2.5.0,>2.2.0->pytorch_tabular) (3.4)\n",
      "Requirement already satisfied: certifi>=2017.4.17 in /opt/conda/lib/python3.10/site-packages (from requests<3,>=2.21.0->tensorboard!=2.5.0,>2.2.0->pytorch_tabular) (2023.7.22)\n",
      "Requirement already satisfied: MarkupSafe>=2.1.1 in /opt/conda/lib/python3.10/site-packages (from werkzeug>=1.0.1->tensorboard!=2.5.0,>2.2.0->pytorch_tabular) (2.1.3)\n",
      "Requirement already satisfied: notebook>=4.4.1 in /opt/conda/lib/python3.10/site-packages (from widgetsnbextension~=3.6.0->ipywidgets->pytorch_tabular) (6.5.5)\n",
      "Requirement already satisfied: attrs>=17.3.0 in /opt/conda/lib/python3.10/site-packages (from aiohttp!=4.0.0a0,!=4.0.0a1->fsspec[http]>2021.06.0->pytorch-lightning<2.0.0,>=1.8.0->pytorch_tabular) (23.1.0)\n",
      "Requirement already satisfied: multidict<7.0,>=4.5 in /opt/conda/lib/python3.10/site-packages (from aiohttp!=4.0.0a0,!=4.0.0a1->fsspec[http]>2021.06.0->pytorch-lightning<2.0.0,>=1.8.0->pytorch_tabular) (6.0.4)\n",
      "Requirement already satisfied: async-timeout<5.0,>=4.0.0a3 in /opt/conda/lib/python3.10/site-packages (from aiohttp!=4.0.0a0,!=4.0.0a1->fsspec[http]>2021.06.0->pytorch-lightning<2.0.0,>=1.8.0->pytorch_tabular) (4.0.3)\n",
      "Requirement already satisfied: yarl<2.0,>=1.0 in /opt/conda/lib/python3.10/site-packages (from aiohttp!=4.0.0a0,!=4.0.0a1->fsspec[http]>2021.06.0->pytorch-lightning<2.0.0,>=1.8.0->pytorch_tabular) (1.9.2)\n",
      "Requirement already satisfied: frozenlist>=1.1.1 in /opt/conda/lib/python3.10/site-packages (from aiohttp!=4.0.0a0,!=4.0.0a1->fsspec[http]>2021.06.0->pytorch-lightning<2.0.0,>=1.8.0->pytorch_tabular) (1.4.0)\n",
      "Requirement already satisfied: aiosignal>=1.1.2 in /opt/conda/lib/python3.10/site-packages (from aiohttp!=4.0.0a0,!=4.0.0a1->fsspec[http]>2021.06.0->pytorch-lightning<2.0.0,>=1.8.0->pytorch_tabular) (1.3.1)\n",
      "Requirement already satisfied: parso<0.9.0,>=0.8.3 in /opt/conda/lib/python3.10/site-packages (from jedi>=0.16->ipython>=4.0.0->ipywidgets->pytorch_tabular) (0.8.3)\n",
      "Requirement already satisfied: entrypoints in /opt/conda/lib/python3.10/site-packages (from jupyter-client>=6.1.12->ipykernel>=4.5.1->ipywidgets->pytorch_tabular) (0.4)\n",
      "Requirement already satisfied: platformdirs>=2.5 in /opt/conda/lib/python3.10/site-packages (from jupyter-core!=5.0.*,>=4.12->ipykernel>=4.5.1->ipywidgets->pytorch_tabular) (4.0.0)\n",
      "Requirement already satisfied: jinja2 in /opt/conda/lib/python3.10/site-packages (from notebook>=4.4.1->widgetsnbextension~=3.6.0->ipywidgets->pytorch_tabular) (3.1.2)\n",
      "Requirement already satisfied: argon2-cffi in /opt/conda/lib/python3.10/site-packages (from notebook>=4.4.1->widgetsnbextension~=3.6.0->ipywidgets->pytorch_tabular) (21.3.0)\n",
      "Requirement already satisfied: nbformat in /opt/conda/lib/python3.10/site-packages (from notebook>=4.4.1->widgetsnbextension~=3.6.0->ipywidgets->pytorch_tabular) (5.9.2)\n",
      "Requirement already satisfied: nbconvert>=5 in /opt/conda/lib/python3.10/site-packages (from notebook>=4.4.1->widgetsnbextension~=3.6.0->ipywidgets->pytorch_tabular) (6.4.5)\n",
      "Requirement already satisfied: Send2Trash>=1.8.0 in /opt/conda/lib/python3.10/site-packages (from notebook>=4.4.1->widgetsnbextension~=3.6.0->ipywidgets->pytorch_tabular) (1.8.2)\n",
      "Requirement already satisfied: terminado>=0.8.3 in /opt/conda/lib/python3.10/site-packages (from notebook>=4.4.1->widgetsnbextension~=3.6.0->ipywidgets->pytorch_tabular) (0.17.1)\n",
      "Requirement already satisfied: prometheus-client in /opt/conda/lib/python3.10/site-packages (from notebook>=4.4.1->widgetsnbextension~=3.6.0->ipywidgets->pytorch_tabular) (0.17.1)\n",
      "Requirement already satisfied: nbclassic>=0.4.7 in /opt/conda/lib/python3.10/site-packages (from notebook>=4.4.1->widgetsnbextension~=3.6.0->ipywidgets->pytorch_tabular) (1.0.0)\n",
      "Requirement already satisfied: ptyprocess>=0.5 in /opt/conda/lib/python3.10/site-packages (from pexpect>4.3->ipython>=4.0.0->ipywidgets->pytorch_tabular) (0.7.0)\n",
      "Requirement already satisfied: wcwidth in /opt/conda/lib/python3.10/site-packages (from prompt-toolkit!=3.0.37,<3.1.0,>=3.0.30->ipython>=4.0.0->ipywidgets->pytorch_tabular) (0.2.6)\n",
      "Requirement already satisfied: pyasn1<0.5.0,>=0.4.6 in /opt/conda/lib/python3.10/site-packages (from pyasn1-modules>=0.2.1->google-auth<3,>=1.6.3->tensorboard!=2.5.0,>2.2.0->pytorch_tabular) (0.4.8)\n",
      "Requirement already satisfied: oauthlib>=3.0.0 in /opt/conda/lib/python3.10/site-packages (from requests-oauthlib>=0.7.0->google-auth-oauthlib<1.1,>=0.5->tensorboard!=2.5.0,>2.2.0->pytorch_tabular) (3.2.2)\n",
      "Requirement already satisfied: executing>=1.2.0 in /opt/conda/lib/python3.10/site-packages (from stack-data->ipython>=4.0.0->ipywidgets->pytorch_tabular) (1.2.0)\n",
      "Requirement already satisfied: asttokens>=2.1.0 in /opt/conda/lib/python3.10/site-packages (from stack-data->ipython>=4.0.0->ipywidgets->pytorch_tabular) (2.2.1)\n",
      "Requirement already satisfied: pure-eval in /opt/conda/lib/python3.10/site-packages (from stack-data->ipython>=4.0.0->ipywidgets->pytorch_tabular) (0.2.2)\n",
      "Requirement already satisfied: jupyter-server>=1.8 in /opt/conda/lib/python3.10/site-packages (from nbclassic>=0.4.7->notebook>=4.4.1->widgetsnbextension~=3.6.0->ipywidgets->pytorch_tabular) (2.10.0)\n",
      "Requirement already satisfied: notebook-shim>=0.2.3 in /opt/conda/lib/python3.10/site-packages (from nbclassic>=0.4.7->notebook>=4.4.1->widgetsnbextension~=3.6.0->ipywidgets->pytorch_tabular) (0.2.3)\n",
      "Requirement already satisfied: mistune<2,>=0.8.1 in /opt/conda/lib/python3.10/site-packages (from nbconvert>=5->notebook>=4.4.1->widgetsnbextension~=3.6.0->ipywidgets->pytorch_tabular) (0.8.4)\n",
      "Requirement already satisfied: jupyterlab-pygments in /opt/conda/lib/python3.10/site-packages (from nbconvert>=5->notebook>=4.4.1->widgetsnbextension~=3.6.0->ipywidgets->pytorch_tabular) (0.2.2)\n",
      "Requirement already satisfied: bleach in /opt/conda/lib/python3.10/site-packages (from nbconvert>=5->notebook>=4.4.1->widgetsnbextension~=3.6.0->ipywidgets->pytorch_tabular) (6.0.0)\n",
      "Requirement already satisfied: pandocfilters>=1.4.1 in /opt/conda/lib/python3.10/site-packages (from nbconvert>=5->notebook>=4.4.1->widgetsnbextension~=3.6.0->ipywidgets->pytorch_tabular) (1.5.0)\n",
      "Requirement already satisfied: testpath in /opt/conda/lib/python3.10/site-packages (from nbconvert>=5->notebook>=4.4.1->widgetsnbextension~=3.6.0->ipywidgets->pytorch_tabular) (0.6.0)\n",
      "Requirement already satisfied: defusedxml in /opt/conda/lib/python3.10/site-packages (from nbconvert>=5->notebook>=4.4.1->widgetsnbextension~=3.6.0->ipywidgets->pytorch_tabular) (0.7.1)\n",
      "Requirement already satisfied: beautifulsoup4 in /opt/conda/lib/python3.10/site-packages (from nbconvert>=5->notebook>=4.4.1->widgetsnbextension~=3.6.0->ipywidgets->pytorch_tabular) (4.12.2)\n",
      "Requirement already satisfied: nbclient<0.6.0,>=0.5.0 in /opt/conda/lib/python3.10/site-packages (from nbconvert>=5->notebook>=4.4.1->widgetsnbextension~=3.6.0->ipywidgets->pytorch_tabular) (0.5.13)\n",
      "Requirement already satisfied: fastjsonschema in /opt/conda/lib/python3.10/site-packages (from nbformat->notebook>=4.4.1->widgetsnbextension~=3.6.0->ipywidgets->pytorch_tabular) (2.18.0)\n",
      "Requirement already satisfied: jsonschema>=2.6 in /opt/conda/lib/python3.10/site-packages (from nbformat->notebook>=4.4.1->widgetsnbextension~=3.6.0->ipywidgets->pytorch_tabular) (4.19.0)\n",
      "Requirement already satisfied: argon2-cffi-bindings in /opt/conda/lib/python3.10/site-packages (from argon2-cffi->notebook>=4.4.1->widgetsnbextension~=3.6.0->ipywidgets->pytorch_tabular) (21.2.0)\n",
      "Requirement already satisfied: jsonschema-specifications>=2023.03.6 in /opt/conda/lib/python3.10/site-packages (from jsonschema>=2.6->nbformat->notebook>=4.4.1->widgetsnbextension~=3.6.0->ipywidgets->pytorch_tabular) (2023.7.1)\n",
      "Requirement already satisfied: referencing>=0.28.4 in /opt/conda/lib/python3.10/site-packages (from jsonschema>=2.6->nbformat->notebook>=4.4.1->widgetsnbextension~=3.6.0->ipywidgets->pytorch_tabular) (0.30.2)\n",
      "Requirement already satisfied: rpds-py>=0.7.1 in /opt/conda/lib/python3.10/site-packages (from jsonschema>=2.6->nbformat->notebook>=4.4.1->widgetsnbextension~=3.6.0->ipywidgets->pytorch_tabular) (0.9.2)\n",
      "Requirement already satisfied: anyio>=3.1.0 in /opt/conda/lib/python3.10/site-packages (from jupyter-server>=1.8->nbclassic>=0.4.7->notebook>=4.4.1->widgetsnbextension~=3.6.0->ipywidgets->pytorch_tabular) (3.7.1)\n",
      "Requirement already satisfied: jupyter-events>=0.6.0 in /opt/conda/lib/python3.10/site-packages (from jupyter-server>=1.8->nbclassic>=0.4.7->notebook>=4.4.1->widgetsnbextension~=3.6.0->ipywidgets->pytorch_tabular) (0.7.0)\n",
      "Requirement already satisfied: jupyter-server-terminals in /opt/conda/lib/python3.10/site-packages (from jupyter-server>=1.8->nbclassic>=0.4.7->notebook>=4.4.1->widgetsnbextension~=3.6.0->ipywidgets->pytorch_tabular) (0.4.4)\n",
      "Requirement already satisfied: overrides in /opt/conda/lib/python3.10/site-packages (from jupyter-server>=1.8->nbclassic>=0.4.7->notebook>=4.4.1->widgetsnbextension~=3.6.0->ipywidgets->pytorch_tabular) (6.5.0)\n",
      "Requirement already satisfied: websocket-client in /opt/conda/lib/python3.10/site-packages (from jupyter-server>=1.8->nbclassic>=0.4.7->notebook>=4.4.1->widgetsnbextension~=3.6.0->ipywidgets->pytorch_tabular) (1.6.2)\n",
      "Requirement already satisfied: cffi>=1.0.1 in /opt/conda/lib/python3.10/site-packages (from argon2-cffi-bindings->argon2-cffi->notebook>=4.4.1->widgetsnbextension~=3.6.0->ipywidgets->pytorch_tabular) (1.15.1)\n",
      "Requirement already satisfied: soupsieve>1.2 in /opt/conda/lib/python3.10/site-packages (from beautifulsoup4->nbconvert>=5->notebook>=4.4.1->widgetsnbextension~=3.6.0->ipywidgets->pytorch_tabular) (2.3.2.post1)\n",
      "Requirement already satisfied: webencodings in /opt/conda/lib/python3.10/site-packages (from bleach->nbconvert>=5->notebook>=4.4.1->widgetsnbextension~=3.6.0->ipywidgets->pytorch_tabular) (0.5.1)\n",
      "Requirement already satisfied: sniffio>=1.1 in /opt/conda/lib/python3.10/site-packages (from anyio>=3.1.0->jupyter-server>=1.8->nbclassic>=0.4.7->notebook>=4.4.1->widgetsnbextension~=3.6.0->ipywidgets->pytorch_tabular) (1.3.0)\n",
      "Requirement already satisfied: exceptiongroup in /opt/conda/lib/python3.10/site-packages (from anyio>=3.1.0->jupyter-server>=1.8->nbclassic>=0.4.7->notebook>=4.4.1->widgetsnbextension~=3.6.0->ipywidgets->pytorch_tabular) (1.1.3)\n",
      "Requirement already satisfied: pycparser in /opt/conda/lib/python3.10/site-packages (from cffi>=1.0.1->argon2-cffi-bindings->argon2-cffi->notebook>=4.4.1->widgetsnbextension~=3.6.0->ipywidgets->pytorch_tabular) (2.21)\n",
      "Requirement already satisfied: python-json-logger>=2.0.4 in /opt/conda/lib/python3.10/site-packages (from jupyter-events>=0.6.0->jupyter-server>=1.8->nbclassic>=0.4.7->notebook>=4.4.1->widgetsnbextension~=3.6.0->ipywidgets->pytorch_tabular) (2.0.7)\n",
      "Requirement already satisfied: rfc3339-validator in /opt/conda/lib/python3.10/site-packages (from jupyter-events>=0.6.0->jupyter-server>=1.8->nbclassic>=0.4.7->notebook>=4.4.1->widgetsnbextension~=3.6.0->ipywidgets->pytorch_tabular) (0.1.4)\n",
      "Requirement already satisfied: rfc3986-validator>=0.1.1 in /opt/conda/lib/python3.10/site-packages (from jupyter-events>=0.6.0->jupyter-server>=1.8->nbclassic>=0.4.7->notebook>=4.4.1->widgetsnbextension~=3.6.0->ipywidgets->pytorch_tabular) (0.1.1)\n",
      "Requirement already satisfied: fqdn in /opt/conda/lib/python3.10/site-packages (from jsonschema>=2.6->nbformat->notebook>=4.4.1->widgetsnbextension~=3.6.0->ipywidgets->pytorch_tabular) (1.5.1)\n",
      "Requirement already satisfied: isoduration in /opt/conda/lib/python3.10/site-packages (from jsonschema>=2.6->nbformat->notebook>=4.4.1->widgetsnbextension~=3.6.0->ipywidgets->pytorch_tabular) (20.11.0)\n",
      "Requirement already satisfied: jsonpointer>1.13 in /opt/conda/lib/python3.10/site-packages (from jsonschema>=2.6->nbformat->notebook>=4.4.1->widgetsnbextension~=3.6.0->ipywidgets->pytorch_tabular) (2.0)\n",
      "Requirement already satisfied: uri-template in /opt/conda/lib/python3.10/site-packages (from jsonschema>=2.6->nbformat->notebook>=4.4.1->widgetsnbextension~=3.6.0->ipywidgets->pytorch_tabular) (1.3.0)\n",
      "Requirement already satisfied: webcolors>=1.11 in /opt/conda/lib/python3.10/site-packages (from jsonschema>=2.6->nbformat->notebook>=4.4.1->widgetsnbextension~=3.6.0->ipywidgets->pytorch_tabular) (1.13)\n",
      "Requirement already satisfied: arrow>=0.15.0 in /opt/conda/lib/python3.10/site-packages (from isoduration->jsonschema>=2.6->nbformat->notebook>=4.4.1->widgetsnbextension~=3.6.0->ipywidgets->pytorch_tabular) (1.2.3)\n",
      "pytorch-ignite                           0.4.13\n",
      "pytorch-lightning                        1.9.5\n",
      "pytorch-tabnet                           4.0\n",
      "pytorch-tabular                          1.0.2\n",
      "torch                                    1.13.1\n",
      "torchinfo                                1.8.0\n",
      "torchmetrics                             0.11.4\n"
     ]
    }
   ],
   "source": [
    "!pip uninstall -q -y torchaudio torchdata torchtext torchvision\n",
    "\n",
    "!pip install -q \"torch<2.0.0\"  -f /kaggle/input/pytorch-tabular-python-package/ --no-index\n",
    "!pip install pytorch_tabular -f /kaggle/input/pytorch-tabular-python-package/ --no-index\n",
    "!pip list | grep torch\n",
    "\n",
    "%load_ext autoreload\n",
    "%autoreload 2"
   ]
  },
  {
   "cell_type": "code",
   "execution_count": 10,
   "metadata": {
    "execution": {
     "iopub.execute_input": "2023-12-11T23:07:51.434436Z",
     "iopub.status.busy": "2023-12-11T23:07:51.434024Z",
     "iopub.status.idle": "2023-12-11T23:07:51.531688Z",
     "shell.execute_reply": "2023-12-11T23:07:51.530656Z",
     "shell.execute_reply.started": "2023-12-11T23:07:51.434395Z"
    }
   },
   "outputs": [],
   "source": [
    "\n",
    "import gc\n",
    "import os\n",
    "import time\n",
    "import warnings\n",
    "from itertools import combinations\n",
    "from warnings import simplefilter\n",
    "\n",
    "\n",
    "import joblib\n",
    "import numpy as np\n",
    "import pandas as pd\n",
    "from sklearn.metrics import mean_absolute_error\n",
    "from sklearn.model_selection import KFold, TimeSeriesSplit\n",
    "#from pytorch_tabular import TabularModel\n",
    "\n",
    "warnings.filterwarnings(\"ignore\")\n",
    "simplefilter(action=\"ignore\", category=pd.errors.PerformanceWarning)"
   ]
  },
  {
   "cell_type": "code",
   "execution_count": 11,
   "metadata": {
    "execution": {
     "iopub.execute_input": "2023-12-11T23:07:51.533374Z",
     "iopub.status.busy": "2023-12-11T23:07:51.533065Z",
     "iopub.status.idle": "2023-12-11T23:08:10.483370Z",
     "shell.execute_reply": "2023-12-11T23:08:10.482393Z",
     "shell.execute_reply.started": "2023-12-11T23:07:51.533347Z"
    }
   },
   "outputs": [],
   "source": [
    "max_lookback = np.nan\n",
    "# split_day = 435  # Split day for time series data\n",
    "\n",
    "df_train = pd.read_csv(\"/kaggle/input/optiver-trading-at-the-close/train.csv\")\n",
    "df_train.dropna(subset=[\"target\"], inplace=True)\n",
    "df_train.reset_index(drop=True, inplace=True)\n",
    "df_shape = df_train.shape"
   ]
  },
  {
   "cell_type": "code",
   "execution_count": 12,
   "metadata": {
    "execution": {
     "iopub.execute_input": "2023-12-11T23:08:10.486165Z",
     "iopub.status.busy": "2023-12-11T23:08:10.485849Z",
     "iopub.status.idle": "2023-12-11T23:08:10.592279Z",
     "shell.execute_reply": "2023-12-11T23:08:10.591204Z",
     "shell.execute_reply.started": "2023-12-11T23:08:10.486137Z"
    }
   },
   "outputs": [],
   "source": [
    "def reduce_mem_usage(df, verbose=1):\n",
    "    start_mem = df.memory_usage().sum() / 1024**2\n",
    "\n",
    "    for col in df.columns:\n",
    "        col_type = df[col].dtype\n",
    "\n",
    "        if col_type != object:\n",
    "            c_min = df[col].min()\n",
    "            c_max = df[col].max()\n",
    "            \n",
    "            if str(col_type)[:3] == \"int\":\n",
    "                if c_min > np.iinfo(np.int8).min and c_max < np.iinfo(np.int8).max:\n",
    "                    df[col] = df[col].astype(np.int8)\n",
    "                elif c_min > np.iinfo(np.int16).min and c_max < np.iinfo(np.int16).max:\n",
    "                    df[col] = df[col].astype(np.int16)\n",
    "                elif c_min > np.iinfo(np.int32).min and c_max < np.iinfo(np.int32).max:\n",
    "                    df[col] = df[col].astype(np.int32)\n",
    "                elif c_min > np.iinfo(np.int64).min and c_max < np.iinfo(np.int64).max:\n",
    "                    df[col] = df[col].astype(np.int64)\n",
    "            else:\n",
    "                if c_min > np.finfo(np.float16).min and c_max < np.finfo(np.float16).max:\n",
    "                    df[col] = df[col].astype(np.float32)\n",
    "                elif c_min > np.finfo(np.float32).min and c_max < np.finfo(np.float32).max:\n",
    "                    df[col] = df[col].astype(np.float32)\n",
    "                else:\n",
    "                    df[col] = df[col].astype(np.float32)\n",
    "\n",
    "    if verbose:\n",
    "        print(f\"Memory usage of dataframe is {start_mem:.2f} MB\")\n",
    "        end_mem = df.memory_usage().sum() / 1024**2\n",
    "        print(f\"Memory usage after optimization is: {end_mem:.2f} MB\")\n",
    "        decrease = 100 * (start_mem - end_mem) / start_mem\n",
    "        print(f\"Decreased by {decrease:.2f}%\")\n",
    "\n",
    "    return df"
   ]
  },
  {
   "cell_type": "code",
   "execution_count": 13,
   "metadata": {
    "execution": {
     "iopub.execute_input": "2023-12-11T23:08:10.593878Z",
     "iopub.status.busy": "2023-12-11T23:08:10.593524Z",
     "iopub.status.idle": "2023-12-11T23:08:10.694151Z",
     "shell.execute_reply": "2023-12-11T23:08:10.693120Z",
     "shell.execute_reply.started": "2023-12-11T23:08:10.593846Z"
    }
   },
   "outputs": [],
   "source": [
    "from numba import njit, prange\n",
    "\n",
    "@njit(parallel=True)\n",
    "def compute_triplet_imbalance(df_values, comb_indices):\n",
    "    num_rows = df_values.shape[0]\n",
    "    num_combinations = len(comb_indices)\n",
    "    imbalance_features = np.empty((num_rows, num_combinations))\n",
    "\n",
    "    for i in prange(num_combinations):\n",
    "        a, b, c = comb_indices[i]\n",
    "        \n",
    "        for j in range(num_rows):\n",
    "            max_val = max(df_values[j, a], df_values[j, b], df_values[j, c])\n",
    "            min_val = min(df_values[j, a], df_values[j, b], df_values[j, c])\n",
    "            mid_val = df_values[j, a] + df_values[j, b] + df_values[j, c] - min_val - max_val\n",
    "            \n",
    "            if mid_val == min_val:\n",
    "                imbalance_features[j, i] = np.nan\n",
    "            else:\n",
    "                imbalance_features[j, i] = (max_val - mid_val) / (mid_val - min_val)\n",
    "\n",
    "    return imbalance_features"
   ]
  },
  {
   "cell_type": "code",
   "execution_count": 14,
   "metadata": {
    "execution": {
     "iopub.execute_input": "2023-12-11T23:08:10.695595Z",
     "iopub.status.busy": "2023-12-11T23:08:10.695273Z",
     "iopub.status.idle": "2023-12-11T23:08:10.796911Z",
     "shell.execute_reply": "2023-12-11T23:08:10.795857Z",
     "shell.execute_reply.started": "2023-12-11T23:08:10.695569Z"
    }
   },
   "outputs": [],
   "source": [
    "def calculate_triplet_imbalance_numba(price, df):\n",
    "    df_values = df[price].values\n",
    "    comb_indices = [(price.index(a), price.index(b), price.index(c)) for a, b, c in combinations(price, 3)]\n",
    "\n",
    "    features_array = compute_triplet_imbalance(df_values, comb_indices)\n",
    "\n",
    "    columns = [f\"{a}_{b}_{c}_imb2\" for a, b, c in combinations(price, 3)]\n",
    "    return pd.DataFrame(features_array, columns=columns)"
   ]
  },
  {
   "cell_type": "code",
   "execution_count": 15,
   "metadata": {
    "execution": {
     "iopub.execute_input": "2023-12-11T23:08:10.798563Z",
     "iopub.status.busy": "2023-12-11T23:08:10.798181Z",
     "iopub.status.idle": "2023-12-11T23:08:10.922742Z",
     "shell.execute_reply": "2023-12-11T23:08:10.921704Z",
     "shell.execute_reply.started": "2023-12-11T23:08:10.798536Z"
    }
   },
   "outputs": [
    {
     "name": "stdout",
     "output_type": "stream",
     "text": [
      "IS_CUDA=True with NB_CARDS=1\n"
     ]
    }
   ],
   "source": [
    "import torch\n",
    "\n",
    "IS_CUDA = torch.cuda.is_available()\n",
    "NB_CARDS = torch.cuda.device_count()\n",
    "print(f\"{IS_CUDA=} with {NB_CARDS=}\")\n",
    "\n",
    "def imbalance_features(df):\n",
    "    if IS_CUDA:\n",
    "        import cudf\n",
    "        df = cudf.from_pandas(df)\n",
    "    \n",
    "    prices = [\"reference_price\", \"far_price\", \"near_price\", \"ask_price\", \"bid_price\", \"wap\"]\n",
    "    sizes = [\"matched_size\", \"bid_size\", \"ask_size\", \"imbalance_size\"]\n",
    "\n",
    "    # V1 features\n",
    "    df[\"volume\"] = df.eval(\"ask_size + bid_size\")\n",
    "    df[\"mid_price\"] = df.eval(\"ask_price + bid_price\")/2\n",
    "    df[\"liquidity_imbalance\"] = df.eval(\"(bid_size-ask_size)/(bid_size+ask_size)\")\n",
    "    df[\"matched_imbalance\"] = df.eval(\"imbalance_size-matched_size\")/df.eval(\"matched_size+imbalance_size\")\n",
    "    df[\"size_imbalance\"] = df.eval(\"bid_size / ask_size\")\n",
    "    \n",
    "    # Create features for pairwise price imbalances\n",
    "    for c in combinations(prices, 2):\n",
    "        df[f\"{c[0]}_{c[1]}_imb\"] = df.eval(f\"({c[0]} - {c[1]})/({c[0]} + {c[1]})\")\n",
    "        \n",
    "    # V2 features\n",
    "    # Calculate additional features\n",
    "    df[\"imbalance_momentum\"] = df.groupby(['stock_id'])['imbalance_size'].diff(periods=1) / df['matched_size']\n",
    "    df[\"price_spread\"] = df[\"ask_price\"] - df[\"bid_price\"]\n",
    "    df[\"spread_intensity\"] = df.groupby(['stock_id'])['price_spread'].diff()\n",
    "    df['price_pressure'] = df['imbalance_size'] * (df['ask_price'] - df['bid_price'])\n",
    "    df['market_urgency'] = df['price_spread'] * df['liquidity_imbalance']\n",
    "    df['depth_pressure'] = (df['ask_size'] - df['bid_size']) * (df['far_price'] - df['near_price'])\n",
    "    \n",
    "    # Calculate various statistical aggregation features\n",
    "    \n",
    "    # V3 features\n",
    "    # Calculate shifted and return features for specific columns\n",
    "    for col in ['matched_size', 'imbalance_size', 'reference_price', 'imbalance_buy_sell_flag']:\n",
    "        for window in [1, 2, 3, 10]:\n",
    "            df[f\"{col}_shift_{window}\"] = df.groupby('stock_id')[col].shift(window)\n",
    "            df[f\"{col}_ret_{window}\"] = df.groupby('stock_id')[col].pct_change(window)\n",
    "    \n",
    "    # Calculate diff features for specific columns\n",
    "    for col in ['ask_price', 'bid_price', 'ask_size', 'bid_size']:\n",
    "        for window in [1, 2, 3, 10]:\n",
    "            df[f\"{col}_diff_{window}\"] = df.groupby(\"stock_id\")[col].diff(window)\n",
    "    if IS_CUDA:\n",
    "        df = df.to_pandas()\n",
    "    # Replace infinite values with 0\n",
    "    return df.replace([np.inf, -np.inf], 0)"
   ]
  },
  {
   "cell_type": "code",
   "execution_count": 16,
   "metadata": {
    "execution": {
     "iopub.execute_input": "2023-12-11T23:08:10.924594Z",
     "iopub.status.busy": "2023-12-11T23:08:10.924182Z",
     "iopub.status.idle": "2023-12-11T23:08:11.023303Z",
     "shell.execute_reply": "2023-12-11T23:08:11.022346Z",
     "shell.execute_reply.started": "2023-12-11T23:08:10.924559Z"
    }
   },
   "outputs": [],
   "source": [
    "def numba_imb_features(df):\n",
    "    prices = [\"reference_price\", \"far_price\", \"near_price\", \"ask_price\", \"bid_price\", \"wap\"]\n",
    "    sizes = [\"matched_size\", \"bid_size\", \"ask_size\", \"imbalance_size\"]\n",
    "    \n",
    "    for func in [\"mean\", \"std\", \"skew\", \"kurt\"]:\n",
    "        df[f\"all_prices_{func}\"] = df[prices].agg(func, axis=1)\n",
    "        df[f\"all_sizes_{func}\"] = df[sizes].agg(func, axis=1)\n",
    "        \n",
    "    for c in [['ask_price', 'bid_price', 'wap', 'reference_price'], sizes]:\n",
    "        triplet_feature = calculate_triplet_imbalance_numba(c, df)\n",
    "        df[triplet_feature.columns] = triplet_feature.values\n",
    "    return df"
   ]
  },
  {
   "cell_type": "code",
   "execution_count": 17,
   "metadata": {
    "execution": {
     "iopub.execute_input": "2023-12-11T23:08:11.025578Z",
     "iopub.status.busy": "2023-12-11T23:08:11.024597Z",
     "iopub.status.idle": "2023-12-11T23:08:11.122690Z",
     "shell.execute_reply": "2023-12-11T23:08:11.121615Z",
     "shell.execute_reply.started": "2023-12-11T23:08:11.025541Z"
    }
   },
   "outputs": [],
   "source": [
    "def other_features(df):\n",
    "    df[\"dow\"] = df[\"date_id\"] % 5  \n",
    "    df[\"seconds\"] = df[\"seconds_in_bucket\"] % 60  \n",
    "    df[\"minute\"] = df[\"seconds_in_bucket\"] // 60  \n",
    "    df['time_to_market_close'] = 540 - df['seconds_in_bucket']\n",
    "\n",
    "    for key, value in global_stock_id_feats.items():\n",
    "        df[f\"global_{key}\"] = df[\"stock_id\"].map(value.to_dict())\n",
    "    return df"
   ]
  },
  {
   "cell_type": "code",
   "execution_count": 18,
   "metadata": {
    "execution": {
     "iopub.execute_input": "2023-12-11T23:08:11.126752Z",
     "iopub.status.busy": "2023-12-11T23:08:11.126371Z",
     "iopub.status.idle": "2023-12-11T23:08:11.224706Z",
     "shell.execute_reply": "2023-12-11T23:08:11.223604Z",
     "shell.execute_reply.started": "2023-12-11T23:08:11.126725Z"
    }
   },
   "outputs": [],
   "source": [
    "def generate_all_features(df):\n",
    "    cols = [c for c in df.columns if c not in [\"row_id\", \"time_id\", \"target\"]]\n",
    "    df = df[cols]\n",
    "    \n",
    "    df = imbalance_features(df)\n",
    "    df = numba_imb_features(df)\n",
    "    df = other_features(df)\n",
    "    gc.collect()  # Perform garbage collection to free up memory\n",
    "    \n",
    "    feature_name = [i for i in df.columns if i not in [\"row_id\", \"target\", \"time_id\", \"date_id\"]]\n",
    "    return df[feature_name]"
   ]
  },
  {
   "cell_type": "code",
   "execution_count": 19,
   "metadata": {
    "execution": {
     "iopub.execute_input": "2023-12-11T23:08:11.226849Z",
     "iopub.status.busy": "2023-12-11T23:08:11.226099Z",
     "iopub.status.idle": "2023-12-11T23:09:12.356913Z",
     "shell.execute_reply": "2023-12-11T23:09:12.355991Z",
     "shell.execute_reply.started": "2023-12-11T23:08:11.226811Z"
    }
   },
   "outputs": [
    {
     "name": "stdout",
     "output_type": "stream",
     "text": [
      "Build Online Train Feats Finished.\n",
      "Memory usage of dataframe is 4515.70 MB\n",
      "Memory usage after optimization is: 2167.94 MB\n",
      "Decreased by 51.99%\n"
     ]
    },
    {
     "data": {
      "text/plain": [
       "0"
      ]
     },
     "execution_count": 19,
     "metadata": {},
     "output_type": "execute_result"
    }
   ],
   "source": [
    "g_ask_size_median = df_train.groupby(\"stock_id\")[\"ask_size\"].median()\n",
    "g_ask_size_std = df_train.groupby(\"stock_id\")[\"ask_size\"].std()\n",
    "g_ask_size_min = df_train.groupby(\"stock_id\")[\"ask_size\"].min()\n",
    "g_ask_size_max = df_train.groupby(\"stock_id\")[\"ask_size\"].max()\n",
    "g_bid_size_median = df_train.groupby(\"stock_id\")[\"bid_size\"].median()\n",
    "g_bid_size_std = df_train.groupby(\"stock_id\")[\"bid_size\"].std()\n",
    "g_bid_size_min = df_train.groupby(\"stock_id\")[\"bid_size\"].min()\n",
    "g_bid_size_max = df_train.groupby(\"stock_id\")[\"bid_size\"].max()\n",
    "global_stock_id_feats = {\n",
    "    \"median_size\": g_bid_size_median + g_ask_size_median,\n",
    "    \"std_size\": g_bid_size_std + g_ask_size_std,\n",
    "    \"ptp_size\": g_bid_size_max - g_bid_size_min,\n",
    "    \"median_price\": g_bid_size_median + g_ask_size_median,\n",
    "    \"std_price\": g_bid_size_std + g_ask_size_std,\n",
    "    \"ptp_price\": g_bid_size_max - g_ask_size_min,\n",
    "}\n",
    "df_train_feats = generate_all_features(df_train)\n",
    "print(\"Build Online Train Feats Finished.\")\n",
    "\n",
    "df_train_feats = reduce_mem_usage(df_train_feats)\n",
    "df_train_target = df_train['target'].astype(np.float16)\n",
    "\n",
    "df_train_date_ids = df_train['date_id'].values\n",
    "\n",
    "del df_train\n",
    "gc.collect()"
   ]
  },
  {
   "cell_type": "code",
   "execution_count": 20,
   "metadata": {
    "execution": {
     "iopub.execute_input": "2023-12-11T23:09:12.358331Z",
     "iopub.status.busy": "2023-12-11T23:09:12.358032Z",
     "iopub.status.idle": "2023-12-11T23:09:43.074681Z",
     "shell.execute_reply": "2023-12-11T23:09:43.073595Z",
     "shell.execute_reply.started": "2023-12-11T23:09:12.358305Z"
    }
   },
   "outputs": [
    {
     "name": "stdout",
     "output_type": "stream",
     "text": [
      "0\n"
     ]
    }
   ],
   "source": [
    "# df_train.fillna(df_train.median(), inplace=True)\n",
    "\n",
    "df_train_feats['far_price'].fillna(0, inplace=True)\n",
    "df_train_feats['near_price'].fillna(1, inplace=True)\n",
    "\n",
    "cols_group_by = ['stock_id', 'imbalance_buy_sell_flag']\n",
    "train_grouped_median = df_train_feats.groupby(cols_group_by).transform('median')\n",
    "df_train_feats.fillna(train_grouped_median, inplace=True)\n",
    "print(df_train_feats.isnull().sum().sum())"
   ]
  },
  {
   "cell_type": "code",
   "execution_count": 21,
   "metadata": {
    "execution": {
     "iopub.execute_input": "2023-12-11T23:09:43.076102Z",
     "iopub.status.busy": "2023-12-11T23:09:43.075820Z",
     "iopub.status.idle": "2023-12-11T23:09:43.186064Z",
     "shell.execute_reply": "2023-12-11T23:09:43.185085Z",
     "shell.execute_reply.started": "2023-12-11T23:09:43.076079Z"
    }
   },
   "outputs": [
    {
     "name": "stdout",
     "output_type": "stream",
     "text": [
      "Feature length = 113 as \n",
      "['dow', 'imbalance_buy_sell_flag', 'imbalance_buy_sell_flag_ret_1', 'imbalance_buy_sell_flag_ret_10', 'imbalance_buy_sell_flag_ret_2', 'imbalance_buy_sell_flag_ret_3', 'imbalance_buy_sell_flag_shift_1', 'imbalance_buy_sell_flag_shift_10', 'imbalance_buy_sell_flag_shift_2', 'imbalance_buy_sell_flag_shift_3', 'stock_id']\n",
      "and\n",
      "['all_prices_kurt', 'all_prices_mean', 'all_prices_skew', 'all_prices_std', 'all_sizes_kurt', 'all_sizes_mean', 'all_sizes_skew', 'all_sizes_std', 'ask_price', 'ask_price_bid_price_imb', 'ask_price_bid_price_reference_price_imb2', 'ask_price_bid_price_wap_imb2', 'ask_price_diff_1', 'ask_price_diff_10', 'ask_price_diff_2', 'ask_price_diff_3', 'ask_price_wap_imb', 'ask_price_wap_reference_price_imb2', 'ask_size', 'ask_size_diff_1', 'ask_size_diff_10', 'ask_size_diff_2', 'ask_size_diff_3', 'bid_price', 'bid_price_diff_1', 'bid_price_diff_10', 'bid_price_diff_2', 'bid_price_diff_3', 'bid_price_wap_imb', 'bid_price_wap_reference_price_imb2', 'bid_size', 'bid_size_ask_size_imbalance_size_imb2', 'bid_size_diff_1', 'bid_size_diff_10', 'bid_size_diff_2', 'bid_size_diff_3', 'depth_pressure', 'far_price', 'far_price_ask_price_imb', 'far_price_bid_price_imb', 'far_price_near_price_imb', 'far_price_wap_imb', 'global_median_price', 'global_median_size', 'global_ptp_price', 'global_ptp_size', 'global_std_price', 'global_std_size', 'imbalance_momentum', 'imbalance_size', 'imbalance_size_ret_1', 'imbalance_size_ret_10', 'imbalance_size_ret_2', 'imbalance_size_ret_3', 'imbalance_size_shift_1', 'imbalance_size_shift_10', 'imbalance_size_shift_2', 'imbalance_size_shift_3', 'liquidity_imbalance', 'market_urgency', 'matched_imbalance', 'matched_size', 'matched_size_ask_size_imbalance_size_imb2', 'matched_size_bid_size_ask_size_imb2', 'matched_size_bid_size_imbalance_size_imb2', 'matched_size_ret_1', 'matched_size_ret_10', 'matched_size_ret_2', 'matched_size_ret_3', 'matched_size_shift_1', 'matched_size_shift_10', 'matched_size_shift_2', 'matched_size_shift_3', 'mid_price', 'minute', 'near_price', 'near_price_ask_price_imb', 'near_price_bid_price_imb', 'near_price_wap_imb', 'price_pressure', 'price_spread', 'reference_price', 'reference_price_ask_price_imb', 'reference_price_bid_price_imb', 'reference_price_far_price_imb', 'reference_price_near_price_imb', 'reference_price_ret_1', 'reference_price_ret_10', 'reference_price_ret_2', 'reference_price_ret_3', 'reference_price_shift_1', 'reference_price_shift_10', 'reference_price_shift_2', 'reference_price_shift_3', 'reference_price_wap_imb', 'seconds', 'seconds_in_bucket', 'size_imbalance', 'spread_intensity', 'time_to_market_close', 'volume', 'wap']\n"
     ]
    }
   ],
   "source": [
    "TARGET_NAME = \"target\"\n",
    "CAT_FEATURES = [\"stock_id\"] + [\"dow\"] + [c for c in df_train_feats.columns if c.startswith(\"imbalance_buy_sell_flag\")]\n",
    "NUM_FEATURES = [c for c in df_train_feats.columns if c not in CAT_FEATURES]\n",
    "FEATURE_NAMES = CAT_FEATURES + NUM_FEATURES\n",
    "print(f\"Feature length = {len(FEATURE_NAMES)} as \\n{sorted(CAT_FEATURES)}\\nand\\n{sorted(NUM_FEATURES)}\")"
   ]
  },
  {
   "cell_type": "code",
   "execution_count": 22,
   "metadata": {
    "execution": {
     "iopub.execute_input": "2023-12-11T23:09:43.187479Z",
     "iopub.status.busy": "2023-12-11T23:09:43.187193Z",
     "iopub.status.idle": "2023-12-11T23:09:43.380046Z",
     "shell.execute_reply": "2023-12-11T23:09:43.379264Z",
     "shell.execute_reply.started": "2023-12-11T23:09:43.187436Z"
    }
   },
   "outputs": [
    {
     "name": "stderr",
     "output_type": "stream",
     "text": [
      "2023-12-11 23:09:43,333 - {pytorch_tabular.tabular_model:105} - INFO - Experiment Tracking is turned off\n"
     ]
    }
   ],
   "source": [
    "from pytorch_tabular import TabularModel\n",
    "from pytorch_tabular.config import DataConfig, OptimizerConfig, TrainerConfig, ExperimentConfig\n",
    "from pytorch_tabular.models import FTTransformerConfig, TabTransformerConfig\n",
    "\n",
    "data_config = DataConfig(\n",
    "    target=[TARGET_NAME],\n",
    "    continuous_cols=NUM_FEATURES,\n",
    "    categorical_cols=CAT_FEATURES,\n",
    "    #normalize_continuous_features=True,\n",
    ")\n",
    "model_config = FTTransformerConfig(\n",
    "    task=\"regression\",\n",
    "    #input_embed_dim=8,\n",
    "    num_attn_blocks=4,\n",
    "    num_heads=2,\n",
    "    loss=\"L1Loss\",\n",
    "    metrics=[\"mean_absolute_error\"],\n",
    ")\n",
    "trainer_config = TrainerConfig(\n",
    "#     accelerator=\"cpu\",\n",
    "#     devices=os.cpu_count(),\n",
    "    accelerator=\"gpu\",\n",
    "    devices=1,\n",
    "    batch_size=1024,\n",
    "    accumulate_grad_batches=4,\n",
    "    max_epochs=5,\n",
    "    early_stopping=\"valid_loss\",\n",
    "    early_stopping_patience=3,\n",
    "    checkpoints=\"valid_loss\",\n",
    "    progress_bar=False,\n",
    ")\n",
    "optimizer_config = OptimizerConfig()\n",
    "\n",
    "TabularModel(\n",
    "    data_config=data_config,\n",
    "    model_config=model_config,\n",
    "    optimizer_config=optimizer_config,\n",
    "    trainer_config=trainer_config,\n",
    ")\n",
    "\n",
    "PATH_SAVE_MODELS = '.'  # Directory to save models\n",
    "#os.makedirs(model_save_path, exist_ok=True)"
   ]
  },
  {
   "cell_type": "code",
   "execution_count": null,
   "metadata": {
    "execution": {
     "iopub.execute_input": "2023-12-11T23:09:43.381578Z",
     "iopub.status.busy": "2023-12-11T23:09:43.381251Z"
    }
   },
   "outputs": [
    {
     "name": "stderr",
     "output_type": "stream",
     "text": [
      "2023-12-11 23:09:51,420 - {pytorch_tabular.tabular_model:105} - INFO - Experiment Tracking is turned off\n",
      "2023-12-11 23:09:51,471 - {pytorch_tabular.tabular_model:473} - INFO - Preparing the DataLoaders\n",
      "2023-12-11 23:09:51,567 - {pytorch_tabular.tabular_datamodule:290} - INFO - Setting up the datamodule for regression task\n"
     ]
    },
    {
     "name": "stdout",
     "output_type": "stream",
     "text": [
      "Fold 1 Model Training\n"
     ]
    },
    {
     "name": "stderr",
     "output_type": "stream",
     "text": [
      "2023-12-11 23:09:54,466 - {pytorch_tabular.tabular_model:521} - INFO - Preparing the Model: FTTransformerModel\n",
      "2023-12-11 23:09:54,613 - {pytorch_tabular.tabular_model:268} - INFO - Preparing the Trainer\n",
      "2023-12-11 23:09:55,391 - {pytorch_tabular.tabular_model:582} - INFO - Training Started\n"
     ]
    },
    {
     "data": {
      "application/vnd.jupyter.widget-view+json": {
       "model_id": "",
       "version_major": 2,
       "version_minor": 0
      },
      "text/plain": [
       "Sanity Checking: 0it [00:00, ?it/s]"
      ]
     },
     "metadata": {},
     "output_type": "display_data"
    },
    {
     "data": {
      "application/vnd.jupyter.widget-view+json": {
       "model_id": "fcf495f8e659459da211ece1a12c8704",
       "version_major": 2,
       "version_minor": 0
      },
      "text/plain": [
       "Training: 0it [00:00, ?it/s]"
      ]
     },
     "metadata": {},
     "output_type": "display_data"
    },
    {
     "data": {
      "application/vnd.jupyter.widget-view+json": {
       "model_id": "",
       "version_major": 2,
       "version_minor": 0
      },
      "text/plain": [
       "Validation: 0it [00:00, ?it/s]"
      ]
     },
     "metadata": {},
     "output_type": "display_data"
    },
    {
     "data": {
      "application/vnd.jupyter.widget-view+json": {
       "model_id": "",
       "version_major": 2,
       "version_minor": 0
      },
      "text/plain": [
       "Validation: 0it [00:00, ?it/s]"
      ]
     },
     "metadata": {},
     "output_type": "display_data"
    },
    {
     "data": {
      "application/vnd.jupyter.widget-view+json": {
       "model_id": "",
       "version_major": 2,
       "version_minor": 0
      },
      "text/plain": [
       "Validation: 0it [00:00, ?it/s]"
      ]
     },
     "metadata": {},
     "output_type": "display_data"
    },
    {
     "data": {
      "application/vnd.jupyter.widget-view+json": {
       "model_id": "",
       "version_major": 2,
       "version_minor": 0
      },
      "text/plain": [
       "Validation: 0it [00:00, ?it/s]"
      ]
     },
     "metadata": {},
     "output_type": "display_data"
    },
    {
     "data": {
      "application/vnd.jupyter.widget-view+json": {
       "model_id": "",
       "version_major": 2,
       "version_minor": 0
      },
      "text/plain": [
       "Validation: 0it [00:00, ?it/s]"
      ]
     },
     "metadata": {},
     "output_type": "display_data"
    },
    {
     "name": "stderr",
     "output_type": "stream",
     "text": [
      "2023-12-11 23:14:46,824 - {pytorch_tabular.tabular_model:584} - INFO - Training the model completed\n",
      "2023-12-11 23:14:46,825 - {pytorch_tabular.tabular_model:1258} - INFO - Loading the best model\n"
     ]
    },
    {
     "data": {
      "application/vnd.jupyter.widget-view+json": {
       "model_id": "7786f35845c54d1ab00eac1e726fc092",
       "version_major": 2,
       "version_minor": 0
      },
      "text/plain": [
       "Output()"
      ]
     },
     "metadata": {},
     "output_type": "display_data"
    },
    {
     "data": {
      "text/html": [
       "<pre style=\"white-space:pre;overflow-x:auto;line-height:normal;font-family:Menlo,'DejaVu Sans Mono',consolas,'Courier New',monospace\"></pre>\n"
      ],
      "text/plain": []
     },
     "metadata": {},
     "output_type": "display_data"
    },
    {
     "data": {
      "text/html": [
       "<pre style=\"white-space:pre;overflow-x:auto;line-height:normal;font-family:Menlo,'DejaVu Sans Mono',consolas,'Courier New',monospace\">\n",
       "</pre>\n"
      ],
      "text/plain": [
       "\n"
      ]
     },
     "metadata": {},
     "output_type": "display_data"
    },
    {
     "name": "stderr",
     "output_type": "stream",
     "text": [
      "2023-12-11 23:15:26,888 - {pytorch_tabular.tabular_model:1289} - WARNING - Directory is not empty. Overwriting the contents.\n"
     ]
    },
    {
     "name": "stdout",
     "output_type": "stream",
     "text": [
      "Fold 1 MAE: 7.100425720214844\n",
      "Model for fold 1 saved to ./tabular_1\n"
     ]
    },
    {
     "name": "stderr",
     "output_type": "stream",
     "text": [
      "2023-12-11 23:15:52,957 - {pytorch_tabular.tabular_model:105} - INFO - Experiment Tracking is turned off\n",
      "2023-12-11 23:15:53,001 - {pytorch_tabular.tabular_model:473} - INFO - Preparing the DataLoaders\n",
      "2023-12-11 23:15:53,093 - {pytorch_tabular.tabular_datamodule:290} - INFO - Setting up the datamodule for regression task\n"
     ]
    },
    {
     "name": "stdout",
     "output_type": "stream",
     "text": [
      "Fold 2 Model Training\n"
     ]
    },
    {
     "name": "stderr",
     "output_type": "stream",
     "text": [
      "2023-12-11 23:15:56,134 - {pytorch_tabular.tabular_model:521} - INFO - Preparing the Model: FTTransformerModel\n",
      "2023-12-11 23:15:56,231 - {pytorch_tabular.tabular_model:268} - INFO - Preparing the Trainer\n",
      "2023-12-11 23:15:57,094 - {pytorch_tabular.tabular_model:582} - INFO - Training Started\n"
     ]
    },
    {
     "data": {
      "application/vnd.jupyter.widget-view+json": {
       "model_id": "",
       "version_major": 2,
       "version_minor": 0
      },
      "text/plain": [
       "Sanity Checking: 0it [00:00, ?it/s]"
      ]
     },
     "metadata": {},
     "output_type": "display_data"
    },
    {
     "data": {
      "application/vnd.jupyter.widget-view+json": {
       "model_id": "2bc503527e8543ecb420ee914093c25b",
       "version_major": 2,
       "version_minor": 0
      },
      "text/plain": [
       "Training: 0it [00:00, ?it/s]"
      ]
     },
     "metadata": {},
     "output_type": "display_data"
    },
    {
     "data": {
      "application/vnd.jupyter.widget-view+json": {
       "model_id": "",
       "version_major": 2,
       "version_minor": 0
      },
      "text/plain": [
       "Validation: 0it [00:00, ?it/s]"
      ]
     },
     "metadata": {},
     "output_type": "display_data"
    },
    {
     "data": {
      "application/vnd.jupyter.widget-view+json": {
       "model_id": "",
       "version_major": 2,
       "version_minor": 0
      },
      "text/plain": [
       "Validation: 0it [00:00, ?it/s]"
      ]
     },
     "metadata": {},
     "output_type": "display_data"
    },
    {
     "data": {
      "application/vnd.jupyter.widget-view+json": {
       "model_id": "",
       "version_major": 2,
       "version_minor": 0
      },
      "text/plain": [
       "Validation: 0it [00:00, ?it/s]"
      ]
     },
     "metadata": {},
     "output_type": "display_data"
    },
    {
     "data": {
      "application/vnd.jupyter.widget-view+json": {
       "model_id": "",
       "version_major": 2,
       "version_minor": 0
      },
      "text/plain": [
       "Validation: 0it [00:00, ?it/s]"
      ]
     },
     "metadata": {},
     "output_type": "display_data"
    },
    {
     "data": {
      "application/vnd.jupyter.widget-view+json": {
       "model_id": "",
       "version_major": 2,
       "version_minor": 0
      },
      "text/plain": [
       "Validation: 0it [00:00, ?it/s]"
      ]
     },
     "metadata": {},
     "output_type": "display_data"
    },
    {
     "name": "stderr",
     "output_type": "stream",
     "text": [
      "2023-12-11 23:20:49,275 - {pytorch_tabular.tabular_model:584} - INFO - Training the model completed\n",
      "2023-12-11 23:20:49,276 - {pytorch_tabular.tabular_model:1258} - INFO - Loading the best model\n"
     ]
    },
    {
     "data": {
      "application/vnd.jupyter.widget-view+json": {
       "model_id": "926d97f011f34daf88bc77e05806ccbd",
       "version_major": 2,
       "version_minor": 0
      },
      "text/plain": [
       "Output()"
      ]
     },
     "metadata": {},
     "output_type": "display_data"
    },
    {
     "data": {
      "text/html": [
       "<pre style=\"white-space:pre;overflow-x:auto;line-height:normal;font-family:Menlo,'DejaVu Sans Mono',consolas,'Courier New',monospace\"></pre>\n"
      ],
      "text/plain": []
     },
     "metadata": {},
     "output_type": "display_data"
    },
    {
     "data": {
      "text/html": [
       "<pre style=\"white-space:pre;overflow-x:auto;line-height:normal;font-family:Menlo,'DejaVu Sans Mono',consolas,'Courier New',monospace\">\n",
       "</pre>\n"
      ],
      "text/plain": [
       "\n"
      ]
     },
     "metadata": {},
     "output_type": "display_data"
    },
    {
     "name": "stderr",
     "output_type": "stream",
     "text": [
      "2023-12-11 23:21:32,280 - {pytorch_tabular.tabular_model:1289} - WARNING - Directory is not empty. Overwriting the contents.\n"
     ]
    },
    {
     "name": "stdout",
     "output_type": "stream",
     "text": [
      "Fold 2 MAE: 6.445138454437256\n",
      "Model for fold 2 saved to ./tabular_2\n"
     ]
    },
    {
     "name": "stderr",
     "output_type": "stream",
     "text": [
      "2023-12-11 23:22:02,669 - {pytorch_tabular.tabular_model:105} - INFO - Experiment Tracking is turned off\n",
      "2023-12-11 23:22:02,715 - {pytorch_tabular.tabular_model:473} - INFO - Preparing the DataLoaders\n",
      "2023-12-11 23:22:02,808 - {pytorch_tabular.tabular_datamodule:290} - INFO - Setting up the datamodule for regression task\n"
     ]
    },
    {
     "name": "stdout",
     "output_type": "stream",
     "text": [
      "Fold 3 Model Training\n"
     ]
    },
    {
     "name": "stderr",
     "output_type": "stream",
     "text": [
      "2023-12-11 23:22:05,906 - {pytorch_tabular.tabular_model:521} - INFO - Preparing the Model: FTTransformerModel\n",
      "2023-12-11 23:22:06,007 - {pytorch_tabular.tabular_model:268} - INFO - Preparing the Trainer\n",
      "2023-12-11 23:22:06,933 - {pytorch_tabular.tabular_model:582} - INFO - Training Started\n"
     ]
    },
    {
     "data": {
      "application/vnd.jupyter.widget-view+json": {
       "model_id": "",
       "version_major": 2,
       "version_minor": 0
      },
      "text/plain": [
       "Sanity Checking: 0it [00:00, ?it/s]"
      ]
     },
     "metadata": {},
     "output_type": "display_data"
    },
    {
     "data": {
      "application/vnd.jupyter.widget-view+json": {
       "model_id": "579dff16460a48e984f55c103eaf11bb",
       "version_major": 2,
       "version_minor": 0
      },
      "text/plain": [
       "Training: 0it [00:00, ?it/s]"
      ]
     },
     "metadata": {},
     "output_type": "display_data"
    },
    {
     "data": {
      "application/vnd.jupyter.widget-view+json": {
       "model_id": "",
       "version_major": 2,
       "version_minor": 0
      },
      "text/plain": [
       "Validation: 0it [00:00, ?it/s]"
      ]
     },
     "metadata": {},
     "output_type": "display_data"
    },
    {
     "data": {
      "application/vnd.jupyter.widget-view+json": {
       "model_id": "",
       "version_major": 2,
       "version_minor": 0
      },
      "text/plain": [
       "Validation: 0it [00:00, ?it/s]"
      ]
     },
     "metadata": {},
     "output_type": "display_data"
    },
    {
     "data": {
      "application/vnd.jupyter.widget-view+json": {
       "model_id": "",
       "version_major": 2,
       "version_minor": 0
      },
      "text/plain": [
       "Validation: 0it [00:00, ?it/s]"
      ]
     },
     "metadata": {},
     "output_type": "display_data"
    },
    {
     "data": {
      "application/vnd.jupyter.widget-view+json": {
       "model_id": "",
       "version_major": 2,
       "version_minor": 0
      },
      "text/plain": [
       "Validation: 0it [00:00, ?it/s]"
      ]
     },
     "metadata": {},
     "output_type": "display_data"
    },
    {
     "data": {
      "application/vnd.jupyter.widget-view+json": {
       "model_id": "",
       "version_major": 2,
       "version_minor": 0
      },
      "text/plain": [
       "Validation: 0it [00:00, ?it/s]"
      ]
     },
     "metadata": {},
     "output_type": "display_data"
    },
    {
     "name": "stderr",
     "output_type": "stream",
     "text": [
      "2023-12-11 23:28:00,825 - {pytorch_tabular.tabular_model:584} - INFO - Training the model completed\n",
      "2023-12-11 23:28:00,827 - {pytorch_tabular.tabular_model:1258} - INFO - Loading the best model\n"
     ]
    },
    {
     "data": {
      "application/vnd.jupyter.widget-view+json": {
       "model_id": "0fe9d2debe6c443e853c086fed17aa09",
       "version_major": 2,
       "version_minor": 0
      },
      "text/plain": [
       "Output()"
      ]
     },
     "metadata": {},
     "output_type": "display_data"
    },
    {
     "data": {
      "text/html": [
       "<pre style=\"white-space:pre;overflow-x:auto;line-height:normal;font-family:Menlo,'DejaVu Sans Mono',consolas,'Courier New',monospace\"></pre>\n"
      ],
      "text/plain": []
     },
     "metadata": {},
     "output_type": "display_data"
    },
    {
     "data": {
      "text/html": [
       "<pre style=\"white-space:pre;overflow-x:auto;line-height:normal;font-family:Menlo,'DejaVu Sans Mono',consolas,'Courier New',monospace\">\n",
       "</pre>\n"
      ],
      "text/plain": [
       "\n"
      ]
     },
     "metadata": {},
     "output_type": "display_data"
    },
    {
     "name": "stderr",
     "output_type": "stream",
     "text": [
      "2023-12-11 23:28:50,485 - {pytorch_tabular.tabular_model:1289} - WARNING - Directory is not empty. Overwriting the contents.\n"
     ]
    },
    {
     "name": "stdout",
     "output_type": "stream",
     "text": [
      "Fold 3 MAE: 6.35392951965332\n",
      "Model for fold 3 saved to ./tabular_3\n"
     ]
    },
    {
     "name": "stderr",
     "output_type": "stream",
     "text": [
      "2023-12-11 23:29:21,776 - {pytorch_tabular.tabular_model:105} - INFO - Experiment Tracking is turned off\n",
      "2023-12-11 23:29:21,820 - {pytorch_tabular.tabular_model:473} - INFO - Preparing the DataLoaders\n",
      "2023-12-11 23:29:21,917 - {pytorch_tabular.tabular_datamodule:290} - INFO - Setting up the datamodule for regression task\n"
     ]
    },
    {
     "name": "stdout",
     "output_type": "stream",
     "text": [
      "Fold 4 Model Training\n"
     ]
    },
    {
     "name": "stderr",
     "output_type": "stream",
     "text": [
      "2023-12-11 23:29:26,631 - {pytorch_tabular.tabular_model:521} - INFO - Preparing the Model: FTTransformerModel\n",
      "2023-12-11 23:29:26,729 - {pytorch_tabular.tabular_model:268} - INFO - Preparing the Trainer\n",
      "2023-12-11 23:29:27,652 - {pytorch_tabular.tabular_model:582} - INFO - Training Started\n"
     ]
    },
    {
     "data": {
      "application/vnd.jupyter.widget-view+json": {
       "model_id": "",
       "version_major": 2,
       "version_minor": 0
      },
      "text/plain": [
       "Sanity Checking: 0it [00:00, ?it/s]"
      ]
     },
     "metadata": {},
     "output_type": "display_data"
    },
    {
     "data": {
      "application/vnd.jupyter.widget-view+json": {
       "model_id": "54348a28fdc8481eb4c7377802aebae5",
       "version_major": 2,
       "version_minor": 0
      },
      "text/plain": [
       "Training: 0it [00:00, ?it/s]"
      ]
     },
     "metadata": {},
     "output_type": "display_data"
    },
    {
     "data": {
      "application/vnd.jupyter.widget-view+json": {
       "model_id": "",
       "version_major": 2,
       "version_minor": 0
      },
      "text/plain": [
       "Validation: 0it [00:00, ?it/s]"
      ]
     },
     "metadata": {},
     "output_type": "display_data"
    },
    {
     "data": {
      "application/vnd.jupyter.widget-view+json": {
       "model_id": "c506721585ab4f5fbec4f1f945f89169",
       "version_major": 2,
       "version_minor": 0
      },
      "text/plain": [
       "Validation: 0it [00:00, ?it/s]"
      ]
     },
     "metadata": {},
     "output_type": "display_data"
    }
   ],
   "source": [
    "from sklearn.metrics import mean_absolute_error\n",
    "\n",
    "# The total number of date_ids is 480, we split them into 5 folds with a gap of 5 days in between\n",
    "num_folds, gap = 5, 5\n",
    "fold_size = 480 // num_folds\n",
    "models, scores = [], []\n",
    "\n",
    "for i in range(num_folds):\n",
    "    start = i * fold_size\n",
    "    end = start + fold_size\n",
    "    \n",
    "    # Define the training and testing sets by date_id\n",
    "    if i < num_folds - 1: \n",
    "        purged_start = end - 2\n",
    "        purged_end = end + gap + 2\n",
    "        train_indices = (df_train_date_ids >= start) & (df_train_date_ids < purged_start) | (df_train_date_ids > purged_end)\n",
    "    else:\n",
    "        train_indices = (df_train_date_ids >= start) & (df_train_date_ids < end)\n",
    "    \n",
    "    test_indices = (df_train_date_ids >= end) & (df_train_date_ids < end + fold_size)\n",
    "    \n",
    "    spl_params = dict(n=min(sum(train_indices), 300_000), random_state=42)\n",
    "    fold_train = df_train_feats[FEATURE_NAMES][train_indices].sample(**spl_params)\n",
    "    fold_train[TARGET_NAME] = df_train_target[train_indices].sample(**spl_params)\n",
    "    fold_valid = df_train_feats[FEATURE_NAMES][test_indices]\n",
    "    fold_valid[TARGET_NAME] = df_train_target[test_indices]\n",
    "\n",
    "    print(f\"Fold {i+1} Model Training\")\n",
    "    # Train a TabNet model for the current fold\n",
    "    model_config = FTTransformerConfig(\n",
    "        task=\"regression\",\n",
    "        input_embed_dim=16,\n",
    "        num_attn_blocks=1 + i // 2,\n",
    "        num_heads=2,\n",
    "        loss=\"L1Loss\",\n",
    "        metrics=[\"mean_absolute_error\"],\n",
    "    )\n",
    "    model = TabularModel(\n",
    "        data_config=data_config,\n",
    "        model_config=model_config,\n",
    "        optimizer_config=optimizer_config,\n",
    "        trainer_config=trainer_config,\n",
    "    )\n",
    "    model.fit(train=fold_train, validation=fold_valid)\n",
    "    # Append the model to the list\n",
    "    models.append(model)\n",
    "    # Free up memory by deleting fold specific variables\n",
    "    del fold_train\n",
    "\n",
    "    # Evaluate model performance on the validation set\n",
    "    fold_predictions = model.predict(fold_valid, device=\"cuda\", include_input_features=False)\n",
    "    fold_score = mean_absolute_error(fold_predictions.values, fold_valid[TARGET_NAME].values)\n",
    "    scores.append(fold_score)\n",
    "    print(f\"Fold {i+1} MAE: {fold_score}\")\n",
    "    # Free up memory by deleting fold specific variables\n",
    "    del fold_valid\n",
    "    \n",
    "    # Save the model to a file\n",
    "    model_path = os.path.join(PATH_SAVE_MODELS, f'tabular_{i+1}')\n",
    "    os.makedirs(model_path, exist_ok=True)\n",
    "    model.save_model(model_path)\n",
    "    model.save_model_for_inference(model_path + \".pt\")\n",
    "    print(f\"Model for fold {i+1} saved to {model_path}\")\n",
    "    \n",
    "    gc.collect(), time.sleep(5)\n",
    "    #torch.cuda.empty_cache()\n",
    "    !rm */*.sav\n",
    "\n",
    "# Now 'models' holds the trained models for each fold and 'scores' holds the validation scores\n",
    "print(f\"Average MAE across all folds: {np.mean(scores)}\")"
   ]
  },
  {
   "cell_type": "code",
   "execution_count": null,
   "metadata": {},
   "outputs": [],
   "source": [
    "spl_params = dict(n=min(len(df_train_feats), 400_000), random_state=42)\n",
    "all_train = df_train_feats[FEATURE_NAMES].sample(**spl_params)\n",
    "all_train[TARGET_NAME] = df_train_target.sample(**spl_params)\n",
    "\n",
    "print(f\"Training final model with ...\")\n",
    "# Train the final model on the entire dataset\n",
    "model = tabular_model = TabularModel(\n",
    "    data_config=data_config,\n",
    "    model_config=model_config,\n",
    "    optimizer_config=optimizer_config,\n",
    "    trainer_config=trainer_config,\n",
    ")\n",
    "model.fit(train=all_train)\n",
    "\n",
    "# Save the final model to a file\n",
    "model_path = os.path.join(PATH_SAVE_MODELS, 'tabular_final')\n",
    "os.makedirs(model_path, exist_ok=True)\n",
    "model.save_model(model_path)\n",
    "model.save_model_for_inference(model_path + \".pt\")\n",
    "print(f\"Model final saved to {model_path}\")\n",
    "\n",
    "# Append the final model to the list of models\n",
    "models.append(model)\n",
    "!rm */*.sav"
   ]
  },
  {
   "cell_type": "code",
   "execution_count": null,
   "metadata": {},
   "outputs": [],
   "source": [
    "import optiver2023\n",
    "env = optiver2023.make_env()\n",
    "iter_test = env.iter_test()\n",
    "\n",
    "def zero_sum(prices, volumes):\n",
    "    std_error = np.sqrt(volumes)\n",
    "    step = np.sum(prices) / np.sum(std_error)\n",
    "    out = prices - std_error * step\n",
    "    return out"
   ]
  },
  {
   "cell_type": "code",
   "execution_count": null,
   "metadata": {},
   "outputs": [],
   "source": [
    "counter = 0\n",
    "y_min, y_max = -64, 64\n",
    "qps, predictions = [], []\n",
    "cache = pd.DataFrame()\n",
    "\n",
    "# Weights for each fold model\n",
    "model_weights = [1. / len(models)] * len(models) \n",
    "\n",
    "for (test, revealed_targets, sample_prediction) in iter_test:\n",
    "    now_time = time.time()\n",
    "    cache = pd.concat([cache, test], ignore_index=True, axis=0)\n",
    "    if counter > 0:\n",
    "        cache = cache.groupby(['stock_id']).tail(21).sort_values(\n",
    "            by=['date_id', 'seconds_in_bucket', 'stock_id']).reset_index(drop=True)\n",
    "    feat = generate_all_features(cache)[-len(test):]\n",
    "    feat.fillna(train_grouped_median, inplace=True)\n",
    "\n",
    "    # Generate predictions for each model and calculate the weighted average\n",
    "    predictions = np.zeros(len(test))\n",
    "    for model, weight in zip(models, model_weights):\n",
    "        predictions += weight * model.predict(\n",
    "            feat, device=\"cuda\", include_input_features=False).values[:, 0]\n",
    "\n",
    "    predictions = zero_sum(predictions, test['bid_size'] + test['ask_size'])\n",
    "    clipped_predictions = np.clip(predictions, y_min, y_max)\n",
    "    sample_prediction['target'] = clipped_predictions\n",
    "    env.predict(sample_prediction)\n",
    "    qps.append(time.time() - now_time)\n",
    "    if counter % 10 == 0:\n",
    "        print(counter, 'qps:', np.mean(qps))\n",
    "    if counter < 3:\n",
    "        display(sample_prediction.head())\n",
    "    counter += 1\n",
    "\n",
    "time_cost = 1.146 * np.mean(qps)\n",
    "print(f\"The code will take approximately {np.round(time_cost, 4)} hours to reason about\")"
   ]
  },
  {
   "cell_type": "code",
   "execution_count": null,
   "metadata": {},
   "outputs": [],
   "source": [
    "!head submission.csv"
   ]
  }
 ],
 "metadata": {
  "kaggle": {
   "accelerator": "gpu",
   "dataSources": [
    {
     "databundleVersionId": 7056235,
     "sourceId": 57891,
     "sourceType": "competition"
    },
    {
     "datasetId": 3983567,
     "sourceId": 7086369,
     "sourceType": "datasetVersion"
    }
   ],
   "dockerImageVersionId": 30588,
   "isGpuEnabled": true,
   "isInternetEnabled": false,
   "language": "python",
   "sourceType": "notebook"
  },
  "kernelspec": {
   "display_name": "Python 3 (ipykernel)",
   "language": "python",
   "name": "python3"
  },
  "language_info": {
   "codemirror_mode": {
    "name": "ipython",
    "version": 3
   },
   "file_extension": ".py",
   "mimetype": "text/x-python",
   "name": "python",
   "nbconvert_exporter": "python",
   "pygments_lexer": "ipython3",
   "version": "3.9.13"
  }
 },
 "nbformat": 4,
 "nbformat_minor": 4
}
